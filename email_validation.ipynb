{
 "cells": [
  {
   "cell_type": "markdown",
   "metadata": {},
   "source": [
    "# Python Projects"
   ]
  },
  {
   "cell_type": "markdown",
   "metadata": {},
   "source": [
    "## 01- Email Validation"
   ]
  },
  {
   "cell_type": "markdown",
   "metadata": {},
   "source": [
    "## 1.1- Using String Function"
   ]
  },
  {
   "cell_type": "code",
   "execution_count": 1,
   "metadata": {},
   "outputs": [],
   "source": [
    "email = input('Enter your Email : ')\n",
    "k,j,d = 0,0,0\n",
    "if len(email)>=6:\n",
    "    if email[0].isalpha():\n",
    "        if ('@'in email) and (email.count('@')==1):\n",
    "            if (email[-4]==\".\") ^ (email[-3]==\".\"):\n",
    "                for i in email:\n",
    "                    if i == i.isspace():\n",
    "                        k = 1\n",
    "                    elif i.isalpha():\n",
    "                        if i == i.upper():\n",
    "                            j = 1\n",
    "                    elif i.isdigit():\n",
    "                        continue\n",
    "                    elif i == '_' or i == '.' or i == \"@\":\n",
    "                        continue\n",
    "                    else:\n",
    "                        d = 1\n",
    "                        if d==1:\n",
    "                            print('Wrong Email !')\n",
    "\n",
    "                        else:\n",
    "                            print('Wrong ! There should be no Capital Latter')\n",
    "                if k==1:\n",
    "                    print('Wrong Email ! There should be no Space')\n",
    "            else:\n",
    "                print(\"Wrong Email ! Wrong place of dot '.' \")\n",
    "        else:\n",
    "            print('Wrong Email ! Wrong place of @')\n",
    "    else:\n",
    "        print('Wrong Email ! First Charactor should be Alphabetic')\n",
    "else:\n",
    "    print('Wrong Email ! Too Short')"
   ]
  },
  {
   "cell_type": "markdown",
   "metadata": {},
   "source": [
    "## 1.2- Using RegEx Module\n"
   ]
  },
  {
   "cell_type": "code",
   "execution_count": 1,
   "metadata": {},
   "outputs": [],
   "source": [
    "import re as re"
   ]
  },
  {
   "cell_type": "code",
   "execution_count": 3,
   "metadata": {},
   "outputs": [
    {
     "name": "stdout",
     "output_type": "stream",
     "text": [
      "Wrong Email\n"
     ]
    }
   ],
   "source": [
    "email_condition = \"^[a-z]+[\\.-]?[a-z 0-9]+[@]\\w+[.]\\w{2,3}$\"\n",
    "user_email = input('Enter Your Email : ')\n",
    "if re.search(email_condition,user_email):\n",
    "    print('Correct Email')\n",
    "else:\n",
    "    print('Wrong Email')"
   ]
  },
  {
   "cell_type": "code",
   "execution_count": null,
   "metadata": {},
   "outputs": [],
   "source": []
  }
 ],
 "metadata": {
  "kernelspec": {
   "display_name": "Python 3.10.2 64-bit",
   "language": "python",
   "name": "python3"
  },
  "language_info": {
   "codemirror_mode": {
    "name": "ipython",
    "version": 3
   },
   "file_extension": ".py",
   "mimetype": "text/x-python",
   "name": "python",
   "nbconvert_exporter": "python",
   "pygments_lexer": "ipython3",
   "version": "3.10.2"
  },
  "orig_nbformat": 4,
  "vscode": {
   "interpreter": {
    "hash": "56b2d59c60e4f87487f41cc5e6e8f6aa7185f560bca4a918a113fd85cb7bd9a7"
   }
  }
 },
 "nbformat": 4,
 "nbformat_minor": 2
}
